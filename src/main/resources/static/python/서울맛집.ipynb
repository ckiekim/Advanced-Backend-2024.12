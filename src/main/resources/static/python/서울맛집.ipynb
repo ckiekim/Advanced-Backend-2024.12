{
  "nbformat": 4,
  "nbformat_minor": 0,
  "metadata": {
    "colab": {
      "provenance": []
    },
    "kernelspec": {
      "name": "python3",
      "display_name": "Python 3"
    },
    "language_info": {
      "name": "python"
    }
  },
  "cells": [
    {
      "cell_type": "markdown",
      "source": [
        "## Visit Seoul Net"
      ],
      "metadata": {
        "id": "NSoRsZqQsbQQ"
      }
    },
    {
      "cell_type": "code",
      "source": [
        "import requests\n",
        "import pandas as pd\n",
        "from tqdm import tqdm\n",
        "from bs4 import BeautifulSoup"
      ],
      "metadata": {
        "id": "TFLW61kfsfZV"
      },
      "execution_count": 2,
      "outputs": []
    },
    {
      "cell_type": "code",
      "source": [
        "base_url = 'https://korean.visitseoul.net'\n",
        "url = f'{base_url}/restaurants?curPage=1'\n",
        "result = requests.get(url)\n",
        "soup = BeautifulSoup(result.text, 'html.parser')"
      ],
      "metadata": {
        "id": "ExHOUdXTsrZN"
      },
      "execution_count": 6,
      "outputs": []
    },
    {
      "cell_type": "code",
      "source": [
        "lis = soup.select('li.item')\n",
        "len(lis)"
      ],
      "metadata": {
        "colab": {
          "base_uri": "https://localhost:8080/"
        },
        "id": "jWHOItZqtb62",
        "outputId": "cfea0509-051f-40e2-b1a2-0f6b980846ed"
      },
      "execution_count": 7,
      "outputs": [
        {
          "output_type": "execute_result",
          "data": {
            "text/plain": [
              "8"
            ]
          },
          "metadata": {},
          "execution_count": 7
        }
      ]
    },
    {
      "cell_type": "code",
      "source": [
        "li = lis[0]\n",
        "href = li.select_one('a')['href']\n",
        "href"
      ],
      "metadata": {
        "colab": {
          "base_uri": "https://localhost:8080/",
          "height": 35
        },
        "id": "ftKXt2l_t7K0",
        "outputId": "9a480f0f-75c1-4e2e-b799-76899e57c7b8"
      },
      "execution_count": 8,
      "outputs": [
        {
          "output_type": "execute_result",
          "data": {
            "text/plain": [
              "'/restaurants/통인시장/KOP000281'"
            ],
            "application/vnd.google.colaboratory.intrinsic+json": {
              "type": "string"
            }
          },
          "metadata": {},
          "execution_count": 8
        }
      ]
    },
    {
      "cell_type": "code",
      "source": [
        "sub_url = f'{base_url}{href}'\n",
        "sub_res = requests.get(sub_url)\n",
        "sub_soup = BeautifulSoup(sub_res.text, 'html.parser')"
      ],
      "metadata": {
        "id": "99iQMiRquW6s"
      },
      "execution_count": 9,
      "outputs": []
    },
    {
      "cell_type": "code",
      "source": [
        "name = sub_soup.select_one('.h3.textcenter').text.strip()\n",
        "name"
      ],
      "metadata": {
        "colab": {
          "base_uri": "https://localhost:8080/",
          "height": 35
        },
        "id": "9jpUAx0QvVIk",
        "outputId": "2fc96161-006c-4d22-9127-7403e220555d"
      },
      "execution_count": 10,
      "outputs": [
        {
          "output_type": "execute_result",
          "data": {
            "text/plain": [
              "'통인시장'"
            ],
            "application/vnd.google.colaboratory.intrinsic+json": {
              "type": "string"
            }
          },
          "metadata": {},
          "execution_count": 10
        }
      ]
    },
    {
      "cell_type": "code",
      "source": [
        "intro = sub_soup.select_one('.text-area').get_text().strip().replace(u'\\xa0', u' ')\n",
        "intro"
      ],
      "metadata": {
        "colab": {
          "base_uri": "https://localhost:8080/",
          "height": 109
        },
        "id": "d67G9crmv2LM",
        "outputId": "ab555d78-d1fc-4100-dfac-1cc7106ca5d3"
      },
      "execution_count": 12,
      "outputs": [
        {
          "output_type": "execute_result",
          "data": {
            "text/plain": [
              "'세종마을은 추사 김정희 등 조선시대 예능인들이 모이는 중심지였으며 근대에도 이상 등 문인들이 활동하던 중심지였다. 일제강점기 일본인들을 위해 만들어진 공설시장이 모태이나 6.25이후 인구증가로 시장의 필요성이 높아져 현재처럼 물건을 사고파는 시장의 형태를 갖추게 되었다.    통인시장은 상권이 활성화된 곳으로 다른 전통시장의 벤치마킹 사례로 유명하며 특히 통인시장에서 자체 제작한 엽전은 통인시장만의 즐길 거리다. 엽전으로 환전함과 동시에 검은색 플라스틱 식판도 받게 되는데 이때부터 식판을 들고 다니면서 시장 곳곳을 다니며 음식을 먹을 수 있다. 단, 엽전은 가맹점에서만 사용 가능하다.'"
            ],
            "application/vnd.google.colaboratory.intrinsic+json": {
              "type": "string"
            }
          },
          "metadata": {},
          "execution_count": 12
        }
      ]
    },
    {
      "cell_type": "code",
      "source": [
        "dls = sub_soup.select('.detail-map-infor.first.border > dl')\n",
        "len(dls)"
      ],
      "metadata": {
        "colab": {
          "base_uri": "https://localhost:8080/"
        },
        "id": "Xx0roLJCwwTF",
        "outputId": "15bf1b80-f2ec-4e25-f059-fa0b34b97cfb"
      },
      "execution_count": 13,
      "outputs": [
        {
          "output_type": "execute_result",
          "data": {
            "text/plain": [
              "7"
            ]
          },
          "metadata": {},
          "execution_count": 13
        }
      ]
    },
    {
      "cell_type": "code",
      "source": [
        "info_dict = {}\n",
        "for dl in dls:\n",
        "    dt = dl.select_one('dt').text.strip()\n",
        "    dd = dl.select_one('dd').text.strip().replace(u'\\xa0', u' ').replace('\\r', '\\n')\n",
        "    if dd == '웹사이트 보기':\n",
        "        dd = dl.select_one('a')['href']\n",
        "    info_dict[dt] = dd\n",
        "info_dict"
      ],
      "metadata": {
        "colab": {
          "base_uri": "https://localhost:8080/"
        },
        "id": "reWjPFscxqTl",
        "outputId": "0a090c37-161b-4428-cf31-df9f378dcf54"
      },
      "execution_count": 16,
      "outputs": [
        {
          "output_type": "execute_result",
          "data": {
            "text/plain": [
              "{'전화번호': '02-722-0911',\n",
              " '웹사이트': 'https://tonginmarket.modoo.at/',\n",
              " '홈페이지 언어': '한국어',\n",
              " '이용시간': '통인시장 영업시간 : 07:00 ~ 21:00\\n※ 상점에 따라 상이하며, 정확한 개점, 폐점 시간은 없음\\n 도시락 카페 영업시간 화~금 11:00 ~ 16:00, 토~일 11:00 ~ 17:00 \\n※ 도시락 카페 엽전 판매는 평일 11:00 ~ 15:00, 주말 11:00 ~ 16:00까지',\n",
              " '휴무일': '통인시장 휴무일 : 매월 셋째주 일요일\\n도시락 카페 휴무일 : 매주 월요일, 매월 셋째주 일요일',\n",
              " '주소': '03036  서울 종로구 자하문로15길 18',\n",
              " '교통 정보': '3호선 경복궁역 2번 출구에서 약 515m (도보 8분)'}"
            ]
          },
          "metadata": {},
          "execution_count": 16
        }
      ]
    },
    {
      "cell_type": "code",
      "source": [
        "inner_divs = sub_soup.select('.trip-lst > li > div.inner')\n",
        "len(inner_divs)"
      ],
      "metadata": {
        "colab": {
          "base_uri": "https://localhost:8080/"
        },
        "id": "gF790XRcyFMU",
        "outputId": "68739384-936f-4786-8f90-df6e398e8e2b"
      },
      "execution_count": 20,
      "outputs": [
        {
          "output_type": "execute_result",
          "data": {
            "text/plain": [
              "5"
            ]
          },
          "metadata": {},
          "execution_count": 20
        }
      ]
    },
    {
      "cell_type": "code",
      "source": [
        "reviews = []\n",
        "for inner_div in inner_divs:\n",
        "    review = inner_div.select_one('dd').text.strip()\n",
        "    score = inner_div.select_one('div.group-01 > img.trip-02')['alt'].split(':')[1]\n",
        "    row = {'review': review, 'score': score}\n",
        "    reviews.append(row)\n",
        "reviews"
      ],
      "metadata": {
        "colab": {
          "base_uri": "https://localhost:8080/"
        },
        "id": "LhKDKvR0zwlt",
        "outputId": "a9548ef0-ff05-4285-f8f9-eadb73593f7f"
      },
      "execution_count": 23,
      "outputs": [
        {
          "output_type": "execute_result",
          "data": {
            "text/plain": [
              "[{'review': '생각보다 짧고 작은 시장입니다. 그러나 엽전은 정말 색다르고, 통인시장만의 색깔을 갖게 하는 좋은 아이디어인것 같습니다.\\n 시장분들도 판매하는것 좋지만 차가운 음식은 전자렌지 돌리라는 안내좀 해주셨으면ㅠㅠ',\n",
              "  'score': '4'},\n",
              " {'review': '시장에 장을 보러 간다기보다는 분위기를 느끼고 길거리음식들 사먹는 재미로 들러보면 좋을 것 같다\\n물건들을 사는 방식이 옛날 조선시대 스타일이어서 아이들이 함께가도 재밌을것 같아요',\n",
              "  'score': '3'},\n",
              " {'review': '북촌들려 경복궁 관람 후 서촌으로 넘어가서 통인시장마무리, 이 코스 나쁘지 않다. 통인시장은 엽전을 사고, 다니면서 원하는 음식을 도시락 용기에 담는다. 서서 먹어도 되지만 2층에 준비된 공간도 있다. 음식맛 최고인데 겨울에는 음식을 만드는 곳 앞에서 바로 먹는것을 추천한다. 담아서 다니다 보면 일찍 식어버려서 맛이 떨어진다. 주말에는 너무 복잡하고...',\n",
              "  'score': '4'},\n",
              " {'review': '엽전을 이용한 도시락을 먹을 수 있어서 색다른 추억을 만들 수 있습니다. 기름떡볶이, 떡갈비 등 다양한 음식을 즐길 수 있어요. 다만 대체적으로 기름지거나 튀긴 음식이 많아요',\n",
              "  'score': '3'},\n",
              " {'review': '종로 쪽 좋아해서 자주 다니는데, 주로 북촌만 가다가 서촌쪽에서 이곳에 처음 갔을 때 떡갈비의 맛에 반해버렸습니다. 그래서 저거 먹고싶어서라도 가요. 떡볶이떡같은 떡에 고기를 입혀서 구워주시는 느낌이에요. 아 물론 다른 가게들도 맛있습니다. 도시락카페 좋은 것 같아요',\n",
              "  'score': '4'}]"
            ]
          },
          "metadata": {},
          "execution_count": 23
        }
      ]
    },
    {
      "cell_type": "code",
      "source": [],
      "metadata": {
        "id": "phhRz2J41rDN"
      },
      "execution_count": null,
      "outputs": []
    }
  ]
}